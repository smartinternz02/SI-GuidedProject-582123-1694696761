{
 "cells": [
  {
   "cell_type": "code",
   "execution_count": 1,
   "id": "08a289ff",
   "metadata": {},
   "outputs": [
    {
     "name": "stdout",
     "output_type": "stream",
     "text": [
      "   Feature1  Feature2  Feature3  Feature4\n",
      "0  0.374540  0.950714  0.731994  0.598658\n",
      "1  0.156019  0.155995  0.058084  0.866176\n",
      "2  0.601115  0.708073  0.020584  0.969910\n",
      "3  0.832443  0.212339  0.181825  0.183405\n"
     ]
    }
   ],
   "source": [
    "#Sarvesh Ashish, task -1\n",
    "import pandas as pd\n",
    "import numpy as np\n",
    "\n",
    "# Set the seed for reproducibility\n",
    "np.random.seed(42)\n",
    "\n",
    "# Create random values using numpy\n",
    "data = np.random.rand(4, 4)\n",
    "\n",
    "# Create a DataFrame\n",
    "df = pd.DataFrame(data, columns=['Feature1', 'Feature2', 'Feature3', 'Feature4'])\n",
    "print(df)\n"
   ]
  },
  {
   "cell_type": "code",
   "execution_count": 2,
   "id": "9c7bac86",
   "metadata": {},
   "outputs": [
    {
     "name": "stdout",
     "output_type": "stream",
     "text": [
      "   Random value 1  Random value 2  Random value 3  Random value 4\n",
      "0        0.374540        0.950714        0.731994        0.598658\n",
      "1        0.156019        0.155995        0.058084        0.866176\n",
      "2        0.601115        0.708073        0.020584        0.969910\n",
      "3        0.832443        0.212339        0.181825        0.183405\n"
     ]
    }
   ],
   "source": [
    "#Sarvesh Ashish, task -2\n",
    "import pandas as pd\n",
    "import numpy as np\n",
    "\n",
    "# Set the seed for reproducibility\n",
    "np.random.seed(42)\n",
    "\n",
    "# Create random values using numpy\n",
    "data = np.random.rand(4, 4)\n",
    "\n",
    "# Create a DataFrame with renamed columns\n",
    "df = pd.DataFrame(data, columns=['Random value 1', 'Random value 2', 'Random value 3', 'Random value 4'])\n",
    "\n",
    "print(df)"
   ]
  },
  {
   "cell_type": "code",
   "execution_count": 3,
   "id": "6a14bd3a",
   "metadata": {},
   "outputs": [
    {
     "name": "stdout",
     "output_type": "stream",
     "text": [
      "       Random value 1  Random value 2  Random value 3  Random value 4\n",
      "count        4.000000        4.000000        4.000000        4.000000\n",
      "mean         0.491029        0.506780        0.248122        0.654537\n",
      "std          0.291252        0.386153        0.329856        0.350875\n",
      "min          0.156019        0.155995        0.020584        0.183405\n",
      "25%          0.319910        0.198253        0.048709        0.494845\n",
      "50%          0.487828        0.460206        0.119954        0.732417\n",
      "75%          0.658947        0.768733        0.319367        0.892110\n",
      "max          0.832443        0.950714        0.731994        0.969910\n"
     ]
    }
   ],
   "source": [
    "#Sarvesh Ashish, task - 3\n",
    "stats = df.describe()\n",
    "print(stats)"
   ]
  },
  {
   "cell_type": "code",
   "execution_count": 4,
   "id": "affd6e92",
   "metadata": {},
   "outputs": [
    {
     "name": "stdout",
     "output_type": "stream",
     "text": [
      "Null Values:\n",
      "Random value 1    0\n",
      "Random value 2    0\n",
      "Random value 3    0\n",
      "Random value 4    0\n",
      "dtype: int64\n",
      "\n",
      "Data Types:\n",
      "Random value 1    float64\n",
      "Random value 2    float64\n",
      "Random value 3    float64\n",
      "Random value 4    float64\n",
      "dtype: object\n"
     ]
    }
   ],
   "source": [
    "#Sarvesh Ashish, task -4 \n",
    "# Check for null values\n",
    "null_values = df.isnull().sum()\n",
    "\n",
    "# Get data types of columns\n",
    "column_data_types = df.dtypes\n",
    "\n",
    "print(\"Null Values:\")\n",
    "print(null_values)\n",
    "print(\"\\nData Types:\")\n",
    "print(column_data_types)"
   ]
  },
  {
   "cell_type": "code",
   "execution_count": 5,
   "id": "252c52ce",
   "metadata": {},
   "outputs": [
    {
     "name": "stdout",
     "output_type": "stream",
     "text": [
      "Using .loc[]:\n",
      "0    0.950714\n",
      "1    0.155995\n",
      "2    0.708073\n",
      "3    0.212339\n",
      "Name: Random value 2, dtype: float64\n",
      "0    0.731994\n",
      "1    0.058084\n",
      "2    0.020584\n",
      "3    0.181825\n",
      "Name: Random value 3, dtype: float64\n",
      "\n",
      "Using .iloc[]:\n",
      "0    0.950714\n",
      "1    0.155995\n",
      "2    0.708073\n",
      "3    0.212339\n",
      "Name: Random value 2, dtype: float64\n",
      "0    0.731994\n",
      "1    0.058084\n",
      "2    0.020584\n",
      "3    0.181825\n",
      "Name: Random value 3, dtype: float64\n"
     ]
    }
   ],
   "source": [
    "#Sarvesh Ashish, tasks - 5\n",
    "# Access columns using .loc[]\n",
    "random_value_2_loc = df.loc[:, 'Random value 2']\n",
    "random_value_3_loc = df.loc[:, 'Random value 3']\n",
    "\n",
    "# Access columns using .iloc[]\n",
    "random_value_2_iloc = df.iloc[:, 1]  # Index 1 corresponds to 'Random value 2'\n",
    "random_value_3_iloc = df.iloc[:, 2]  # Index 2 corresponds to 'Random value 3'\n",
    "\n",
    "print(\"Using .loc[]:\")\n",
    "print(random_value_2_loc)\n",
    "print(random_value_3_loc)\n",
    "\n",
    "print(\"\\nUsing .iloc[]:\")\n",
    "print(random_value_2_iloc)\n",
    "print(random_value_3_iloc)"
   ]
  },
  {
   "cell_type": "code",
   "execution_count": null,
   "id": "b9c0108b",
   "metadata": {},
   "outputs": [],
   "source": []
  }
 ],
 "metadata": {
  "kernelspec": {
   "display_name": "Python 3",
   "language": "python",
   "name": "python3"
  },
  "language_info": {
   "codemirror_mode": {
    "name": "ipython",
    "version": 3
   },
   "file_extension": ".py",
   "mimetype": "text/x-python",
   "name": "python",
   "nbconvert_exporter": "python",
   "pygments_lexer": "ipython3",
   "version": "3.8.8"
  }
 },
 "nbformat": 4,
 "nbformat_minor": 5
}
